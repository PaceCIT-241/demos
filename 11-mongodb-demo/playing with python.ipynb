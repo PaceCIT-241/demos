{
 "cells": [
  {
   "cell_type": "code",
   "execution_count": 48,
   "metadata": {},
   "outputs": [
    {
     "name": "stdout",
     "output_type": "stream",
     "text": [
      "server version: 5.0.5\n",
      "\n",
      "databases: ['admin', 'config', 'local', 'test']\n"
     ]
    }
   ],
   "source": [
    "from pymongo import MongoClient, errors\n",
    "\n",
    "DOMAIN = 'localhost'\n",
    "PORT = '27017'\n",
    "\n",
    "try:\n",
    "    # try to instantiate a client instance\n",
    "    client = MongoClient(\n",
    "        host = [ str(DOMAIN) + \":\" + str(PORT) ],\n",
    "        serverSelectionTimeoutMS = 3000, # 3 second timeout\n",
    "    )\n",
    "\n",
    "    # print the version of MongoDB server if connection successful\n",
    "    print (\"server version:\", client.server_info()[\"version\"])\n",
    "\n",
    "    # get the database_names from the MongoClient()\n",
    "    database_names = client.list_database_names()\n",
    "    db = client['test']\n",
    "\n",
    "except errors.ServerSelectionTimeoutError as err:\n",
    "    # set the client and DB name list to 'None' and `[]` if exception\n",
    "    client = None\n",
    "    database_names = []\n",
    "    db = None\n",
    "\n",
    "    # catch pymongo.errors.ServerSelectionTimeoutError\n",
    "    print (\"pymongo ERROR:\", err)\n",
    "\n",
    "print (\"\\ndatabases:\", database_names)"
   ]
  },
  {
   "cell_type": "code",
   "execution_count": 49,
   "metadata": {},
   "outputs": [
    {
     "name": "stdout",
     "output_type": "stream",
     "text": [
      "Sandies Cookies\n",
      "Peanut Butter Cookies\n",
      "Cheesecake\n"
     ]
    }
   ],
   "source": [
    "for item in db.recipes.find():\n",
    "    print(item[\"title\"])"
   ]
  },
  {
   "cell_type": "code",
   "execution_count": 59,
   "metadata": {},
   "outputs": [
    {
     "name": "stdout",
     "output_type": "stream",
     "text": [
      "What would you like to cook?:\n",
      "-------------------------------\n",
      "Searching for ... \"\"\n",
      "-------------------------------\n",
      "\n",
      "We found the following recipes:\n",
      "\n",
      "[Sandies Cookies]\n",
      "This recipe requires 5 ingredients and has 5 instructions\n",
      "\n",
      "[Peanut Butter Cookies]\n",
      "DESCRIPTION: delicious\n",
      "This recipe requires 10 ingredients and has 9 instructions\n",
      "\n",
      "[Cheesecake]\n",
      "DESCRIPTION: the best\n",
      "This recipe requires 8 ingredients and has 12 instructions\n",
      "\n"
     ]
    }
   ],
   "source": [
    "print(\"What would you like to cook?:\")\n",
    "search = input()\n",
    "\n",
    "print(\"-------------------------------\")\n",
    "print(\"Searching for ... \\\"{}\\\"\".format(search))\n",
    "print(\"-------------------------------\")\n",
    "print(\"\")\n",
    "print(\"We found the following recipes:\\n\")\n",
    "\n",
    "# using a case insensitive \"i\" $regex search, but most normal find queries will also work.\n",
    "query = {\n",
    "    \"title\": {\n",
    "        \"$regex\": search,\n",
    "        \"$options\": \"i\"\n",
    "    }\n",
    "}\n",
    "\n",
    "for item in db.recipes.find(query):\n",
    "    output = \"[{}]\\n\".format(item[\"title\"])\n",
    "    if \"note\" in item:\n",
    "        output += \"DESCRIPTION: {}\\n\".format(item[\"note\"])\n",
    "    output += \"This recipe requires {} ingredients and has \".format(len(item['ingredients']))\n",
    "    output += \"{} instructions\\n\".format(len(item[\"instructions\"]))\n",
    "\n",
    "    print(output)\n"
   ]
  },
  {
   "cell_type": "code",
   "execution_count": null,
   "metadata": {},
   "outputs": [],
   "source": []
  }
 ],
 "metadata": {
  "interpreter": {
   "hash": "781b45ff700cee5b482c9b1f04bd179bc89305fc12921442aee5f7009ac6edc3"
  },
  "kernelspec": {
   "display_name": "Python 3.8.5 64-bit ('base': conda)",
   "language": "python",
   "name": "python3"
  },
  "language_info": {
   "codemirror_mode": {
    "name": "ipython",
    "version": 3
   },
   "file_extension": ".py",
   "mimetype": "text/x-python",
   "name": "python",
   "nbconvert_exporter": "python",
   "pygments_lexer": "ipython3",
   "version": "3.8.5"
  },
  "orig_nbformat": 4
 },
 "nbformat": 4,
 "nbformat_minor": 2
}
